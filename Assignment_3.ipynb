{
 "cells": [
  {
   "cell_type": "markdown",
   "id": "6a62a2b4",
   "metadata": {},
   "source": [
    "## 1. Explain the term machine learning, and how does it work? Explain two machine learning applications in the business world. What are some of the ethical concerns that machine learning applications could raise?"
   ]
  },
  {
   "cell_type": "markdown",
   "id": "0e68f45e",
   "metadata": {},
   "source": [
    "Machine Learning is the science (and art) of programming computers so they can learn from data. Our Spam filter is a Machine Learning program that, given examples of spam emails (e.g., flagged by users) and examples of regular (nonspam, also called \"ham\") emails, can learn to flag spam. The examples that the system uses to learn are called the *`training set`*. Each training example is called a *`training instance`* (or *`sample`*). The two machine learning applications for business use cases are `Real time Chatbot systems` and `Customer recommendation engines`. \n",
    "\n",
    "The ethical concerns could raise about how data is managed by the business industries, no misuse of data should happen and certain rules should be in place."
   ]
  },
  {
   "cell_type": "markdown",
   "id": "34872d78",
   "metadata": {},
   "source": [
    "## 2. Describe the process of human learning:\n",
    "           i. Under the supervision of experts\n",
    "\n",
    "           ii. With the assistance of experts in an indirect manner\n",
    "\n",
    "            iii. Self-education\n"
   ]
  },
  {
   "cell_type": "markdown",
   "id": "ebe551c4",
   "metadata": {},
   "source": [
    "i. Under the supervision of experts:\n",
    "\n",
    "At the very begining, a child needs proper supervision in each task of life, after some time they themselves become aware about the approach of how to do certain various tasks.\n",
    "\n",
    "ii. With the assistance of experts in an indirect manner:\n",
    "\n",
    "When teacher teaches in a class and prepare the students for the exams, they are indirectly helping them for the exam which will be different.\n",
    "\n",
    "iii. Self-education:\n",
    "\n",
    "suppose a child is moving towards a burning candle again and again. we try to stop him but he still tries to go and touch it. if the child somehow gets loose and touhes the burning candle and feel the heat and moves his hand away and now cries. Now, next time he will not touch it as he learned that it burns."
   ]
  },
  {
   "cell_type": "markdown",
   "id": "c2ce7721",
   "metadata": {},
   "source": [
    "## 3. Provide a few examples of various types of machine learning."
   ]
  },
  {
   "cell_type": "markdown",
   "id": "e00ed6ba",
   "metadata": {},
   "source": [
    "Few examples of Machine Learning:\n",
    "\n",
    "1. We could use it for predicting some classes with the given labels e.g., spam filtering\n",
    "2. We could it to predict the output which is not labeled and patterns have to be found and then grouped together. e.g., Recommendation of movies on previous records\n",
    "3. Making a system which learns about new patterns by some policy and gets positive reward for good and negative reward for bad. e.g., Driverless car simulation"
   ]
  },
  {
   "cell_type": "markdown",
   "id": "f28cc5b3",
   "metadata": {},
   "source": [
    "## 4. Examine the various forms of machine learning."
   ]
  },
  {
   "cell_type": "markdown",
   "id": "9857e984",
   "metadata": {},
   "source": [
    "There are mainly three types of Machine Learning:\n",
    "\n",
    "1. Supervised Learning:\n",
    "* Labeled data\n",
    "* Direct feedback\n",
    "* Predict outcome/future\n",
    "\n",
    "Example: email spam filtering\n",
    "\n",
    "2. Unsupervised Learning:\n",
    "* No labels/targets\n",
    "* No feedback\n",
    "* Find hidden structure in data\n",
    "\n",
    "Example: it allows marketers to discover customer groups based  on their interests, in order to develop distinct marketing programs.\n",
    "\n",
    "3. Reinforcement Learning:\n",
    "* Decision Process\n",
    "* Reward system\n",
    "* Learn series of actions\n",
    "\n",
    "Example: Chess game"
   ]
  },
  {
   "cell_type": "markdown",
   "id": "19466198",
   "metadata": {},
   "source": [
    "## 5. Can you explain what a well-posed learning problem is? Explain the main characteristics that must be present to identify a learning problem properly."
   ]
  },
  {
   "cell_type": "markdown",
   "id": "1aff2eb6",
   "metadata": {},
   "source": [
    "**Well posed learning**:\n",
    "\n",
    "A computer program is said to `**learn**` from experience E with respect to some class of tasks T and performance measure P, if its performance at tasks in T, as measured by P, improves with experience E.\n",
    "\n",
    "For example, a computer program that learns to play checkers might improve its performance *`as measured by its ability to win`* at the class of tasks involving `*playing checkers games*`, through experience `*obtained by playing games against itself*`. In general, to have  a well-defined learning problem, we must identify these three features: the class of tasks, the measure of performance to be improved, and the source of experience. \n",
    "\n",
    "**A checkers learning problem:**\n",
    "\n",
    "* Task T: playing checkers\n",
    "* Performance measure P: percent of games won against opponents\n",
    "* Training experience E: playing practice games against itself\n",
    "\n",
    "we can specify many learning problems in this fashion, such as learning to recognize handwritten words, or learning to drive a robotic automobile autonomously."
   ]
  },
  {
   "cell_type": "markdown",
   "id": "41d75db9",
   "metadata": {},
   "source": [
    "## 6. Is machine learning capable of solving all problems? Give a detailed explanation of your answer."
   ]
  },
  {
   "cell_type": "markdown",
   "id": "aebee462",
   "metadata": {},
   "source": [
    "Machine learning, a subset of artificial intelligence, has revolutionalized the world as we know it in the past decade. The information explosion has resulted in the collection of massive amounts of data, especially by large companies such as Facebook and Google. This amount of data, coupled with the rapid development of processor power and computer parallelization, has now made it possible to obtain and study huge amounts of data with relative ease. \n",
    "\n",
    "But machine learning has some limitations as it can not solve all the problems like:\n",
    "\n",
    "1. Ethics\n",
    "2. Deterministic problems\n",
    "3. Data\n",
    "4. Misapplication\n",
    "5. Interpretability etc.\n",
    "\n",
    "Suppose sometimes we follow GPS blindly, and many time we reach near lakes and sometimes no where. We are trusting the algorithms more than our own judgement. Sometimes, however, this means replacing someone’s job with an algorithm, which comes with ethical ramifications. Additionally, who do we blame if something goes wrong? What happens when a self driving cars hits someone who do we blame.\n",
    "\n",
    "Machine Learning is stochastic not deterministic. A neural network does not understand Newton’s second law, or that density cannot be negative — there are no physical constraints.\n",
    "\n",
    "Nowadays we are having data. But sometimes we do not have sufficient data or good data. It plays a very vital role as Machine Learning and Deep Learning systems are hungry for data. \n",
    "\n",
    "For reasons discussed in limitation two, applying machine learning on deterministic systems will succeed, but the algorithm which not be learning the relationship between the two variables, and will not know when it is violating physical laws. We simply gave some inputs and outputs to the system and told it to learn the relationship — like someone translating word for word out of a dictionary, the algorithm will only appear to have a facile grasp of the underlying physics.\n",
    "\n",
    "Interpretability is one of the primary problems with machine learning. An AI consultancy firm trying to pitch to a firm that only uses traditional statistical methods can be stopped dead if they do not see the model as interpretable. If you cannot convince your client that you understand how the algorithm came to the decision it did, how likely are they to trust you and your expertise?"
   ]
  },
  {
   "cell_type": "markdown",
   "id": "a9f406a1",
   "metadata": {},
   "source": [
    "## 7. What are the various methods and technologies for solving machine learning problems? Any two of them should be defined in detail."
   ]
  },
  {
   "cell_type": "markdown",
   "id": "bb825a22",
   "metadata": {},
   "source": [
    "For Solving any machine learning problem we look broadly on some certain steps:\n",
    "\n",
    "1. Look at the big picture\n",
    "2. Get the data\n",
    "3. Discover and visualize the data to gain insights\n",
    "4. Prepare the data for Machine Learning algorithms\n",
    "5. Select a model and train it\n",
    "6. Fine-tune your model\n",
    "7. Present your solution\n",
    "8. Launch, monitor, and maintain your system\n",
    "\n",
    "\n",
    "\n",
    "### 2. Get the data: \n",
    "\n",
    "As of now, it has become little easy to get the data. We could get the data from Google Cloud Public Datasets. Google is not just a search engine, it's much more! ...Amazon Web Services Open Data Registry. ...Data.gov. ...Kaggle. ...UCI Machine Learning Repository. ...National Center for Environmental Information. ...Global Health Observatory. ...Earthdata and many more places. The names mentioned here provide free datasets, some will be private also depending upon the type of the data. The data could be in the form of CSV, XLSX, ZIP, TXT, JSON, AVRO, Protocol Buffers, Parquet, ORC and much more. The main part is to get clients permission to get the access to the server personal or cloud from where the data will be taken into the developer side systems and then the Exploration of the Data will start by converting the data into the best format which the developer side will choose to work on. In the EDA part the developers will try to Discover and visualize the data to gain insights.\n",
    "\n",
    "### 3. Discover and visualize the data to gain insights:\n",
    "\n",
    "**EDA + pre-processing equals Feature engineering**\n",
    "\n",
    "1. General profiling of the data which includes:\n",
    "* Analysis of the data\n",
    "* Profiling of the data\n",
    "* Shape of the data\n",
    "* Missing values in the data\n",
    "* Outliers in the data\n",
    "* categorical and numerical values of the data\n",
    "* Binary class and Multi-class of the data\n",
    "\n",
    "2. Statistical Analysis of the data which includes:\n",
    "* Central tendency of the data\n",
    "    * Mean of the data\n",
    "    * Mode of the data\n",
    "    * Median of the data etc.\n",
    "* Dispersion of the data\n",
    "    * standard deviation of the data\n",
    "    * Variance of the data\n",
    "    * Quantile of the data\n",
    "    * Distribution of the data etc.\n",
    "        * Normal data\n",
    "        * Left skewed data\n",
    "        * Right skewed data etc.\n",
    "* Graph based analysis which includes:\n",
    "    * bar plot\n",
    "    * count plot\n",
    "    * historgram\n",
    "    * box plot\n",
    "    * scatter plot etc.\n",
    "\n",
    "In **`Pre-Processing`** includes:\n",
    "* missing value\n",
    "* ouliers\n",
    "* scaling of the data\n",
    "* encoding of the data\n",
    "* Feature selection\n",
    "* Feature transformation\n",
    "* Feature merging\n",
    "* imbalanced data handling\n",
    "\n",
    "`**Structure of the data**`\n",
    "Here we have mainly two categories:\n",
    "* Numeric data\n",
    "    * Continuous data like height and weight of the data\n",
    "    * discreet data which is a whole number, not decimal like 1, 0 etc\n",
    "* Categorical data\n",
    "    * Nominal data in which order does not matter like Male and Female, Boy and Girl. The order does not matter.\n",
    "    * Ordinal data in which order matters like Good, Better and Best\n",
    "    \n",
    "Now according to columns of the data:\n",
    "\n",
    "* if we are taking single column into consideration at a time - it is called `Uni-variable`\n",
    "* if we are taking 2 columns into consideration at a time - it is called `Bi-variate`\n",
    "* if we are taking more than 2 columns into consideration at a time - it is called `Multi-variate`"
   ]
  },
  {
   "cell_type": "markdown",
   "id": "2c500093",
   "metadata": {},
   "source": [
    "## 8. Can you explain the various forms of supervised learning? Explain each one with an example application."
   ]
  },
  {
   "cell_type": "markdown",
   "id": "bf308cc8",
   "metadata": {},
   "source": [
    "The Supervised learning is mainly classified into two types:\n",
    "1. Classification\n",
    "2. Regression\n",
    "\n",
    "**1. Classification:** \n",
    "\n",
    "Classification is a subcategory of supervised learning where the goal is to predict the categorical class labels of new instances or data points based on past observations. Those class labels are discrete, unordered values that can be understood as the group memberships of the data points. The example of email spam detection represents a typical example of a binary classification task, where the machine learning algorithm learns a set of rules to distinguish between two possible classes: spam and non-spam emails. However, the set of class labels does not have to be of a binary nature. The predictive model learned by a supervised learning algorithm can assign any class label that was presented in the training dataset to a new, unlabeled data point or instance.\n",
    "\n",
    "However a typical example of a **multiclass classification** task is handwritten character recognition. We can collect a training dataset that consists of multiple handwritten examples of each letter in the alphabet. The letters (\"A\", \"B\", \"C\" and so on) will represent the different unordered categories or class labels that we want to predict. Now, if a user provides a new handwritten character via an input device, our predictive model will be able to predict the correct letter in the alphabet with certain accuracy. However, our machine learning system will be unable to correctly recognize any of the digits between 0 and 9, for example, if they were not part of the training dataset.\n",
    "\n",
    "**2. Regression:**\n",
    "\n",
    "In regression analysis, we are given a number of predictor (explanatory) variables and a continuous response variable (outcome), and we try to find a relationship between those variables that allows us to predict an outcome. For example, let's assume that we are interested in predicting the math SAT scores of students. If there is a relationship between the time spent studying for the test and the final scores, we could use it as training data to learn a model that uses the study time to predict the test scores of future students who are planning to take this test."
   ]
  },
  {
   "cell_type": "markdown",
   "id": "f2422129",
   "metadata": {},
   "source": [
    "## 9. What is the difference between supervised and unsupervised learning? With a sample application in each region, explain the differences."
   ]
  },
  {
   "cell_type": "markdown",
   "id": "cbffe436",
   "metadata": {},
   "source": [
    "As the name itslef is suggesting that supervised is \"under supervision\" and unsupervised means \"no supervision\". It simply means that in supervised we know what we have to predict and we provide the labels in the training set that you have to predict this e.g., Let's assume we showed 10 students in a class images of orange with the label that it is orange. Then we put them in the field and asked them to find orange. It is supervised learning. But in case of Unsupervised learning, same group of students saw that with orange they have one more fruit in the field which is apple, even they don't know that but they will not combine those apples with oranges and if they plucked it they will make different group of that. Even they are not told that it is apple but still by seeing the shape, color, texture they were able to make different group. It is known as Unsupervised learning. \n",
    "\n",
    "All of these things happens with machines also. When we provide labels they learn the inputs with labeled items and then predict same in future when new input comes like spam and ham. And segmentation of customers according to their shopping habits and then showing them similar things, like clustering same items and putting them together. So, the difference is quite clear now."
   ]
  },
  {
   "cell_type": "markdown",
   "id": "116e7ccb",
   "metadata": {},
   "source": [
    "## 10. Describe the machine learning process in depth."
   ]
  },
  {
   "cell_type": "markdown",
   "id": "994ee9dd",
   "metadata": {},
   "source": [
    "Suppose we want to make biryani by training a ML model. We will supply the input, the output and we will also bring someone who will be a kind of judge.\n",
    "\n",
    "Three things:\n",
    "1. Input --> ingredients\n",
    "2. Output --> biryani\n",
    "3. Judge --> some algorithm for error between input and output\n",
    "\n",
    "Let's start with random ingredients, and see what happens. error will be more for sure as it the first time learning. After the correction of error calculation), we will start again.\n",
    "\n",
    "Call it second iteration, now we know how much the ingredients were less or more as we have the ouput from the previous iteration, call that output as new weights or ingredients. using the updated weights or ingredients, the output biryani will be produced and this time it will be better. again error will be calculated by some gradient descent on weights and aplly delta rule and go for third iteration and then next iteration until we are not satisfied or in ML case error is approx to zero.\n",
    "\n",
    "So, the updation or setting up the ingredients according to new weights which are more optimized for the current issue is `learning`, we have found the pattern that how to solve this problem by simply making the algorithm do the stuff and not doing some explicit programming here. This is what we call `Machine Learning`."
   ]
  },
  {
   "cell_type": "markdown",
   "id": "1f3a4dad",
   "metadata": {},
   "source": [
    "## 11 a. Make brief notes on any two of the following:\n",
    "\n",
    "        i. MATLAB is one of the most widely used programming languages.\n",
    "\n",
    "        ii. Deep learning applications in healthcare\n",
    "\n",
    "        iii. Study of the market basket\n",
    "\n",
    "         iv. Linear regression (simple)\n"
   ]
  },
  {
   "cell_type": "markdown",
   "id": "35282923",
   "metadata": {},
   "source": [
    "### ii. Deep learning applications in healthcare:\n",
    "\n",
    "Nowadays deep learning has flourished so much due to the availability of the data collected by tech giants like Google and Facebook etc. But the researchers have played an important role and many new techniques have come into picture due to which human beings are able to perform many operations precisely and more accurately which we would not think of in general world like:\n",
    "\n",
    "* Analyzing iamges of products on a production line to automatically classify them \n",
    "* Detecting tumour in brains\n",
    "* Automatically classifying news articles\n",
    "* Automatically flagging offensive comments on discussion forum.\n",
    "* Make your app react to voice commands\n",
    "* Detecting credit card fraud etc.\n",
    "* Gene Sequencing and many more\n",
    "\n",
    "### Linear regression (simple):\n",
    "\n",
    "A linear regression is the simplest machine learning algorithm used for separating linear data by creating a best fit line. More generally, a linear model makes a prediction by simply computing a weighted sum of the input features, plus a constant called the bias term (also called the intercept term).\n",
    "$$\\hat{y} = \\Theta_{0}\\ + \\Theta_{1}x_{1}\\ + \\Theta_{2}x_{2}\\ + ... + \\Theta_{n}x_{n}\\$$\n",
    "\n",
    "In this equation:\n",
    "\n",
    "* $\\hat{y}$ is the predicted value\n",
    "* n is the number of features\n",
    "* $x_{i}$ is the $i^{th}$ feature value\n",
    "\n",
    "we set the parameters during training so that the model best fits the training set. Most common performace measure of a regression model is the Root Mean Square Error (RMSE). Therefore, to train a Linear Regression model, we need to find the value of $\\Theta$ that minimizes the RMSE.\n"
   ]
  },
  {
   "cell_type": "markdown",
   "id": "c59712d5",
   "metadata": {},
   "source": [
    "## 12. Make a comparison between:-\n",
    "\n",
    "         1. Generalization and abstraction\n",
    "\n",
    "          2. Learning that is guided and unsupervised\n",
    "\n",
    "          3. Regression and classification\n"
   ]
  },
  {
   "cell_type": "markdown",
   "id": "a20d6ab2",
   "metadata": {},
   "source": [
    "### 1. Generalization and abstraction: \n",
    "\n",
    "While abstraction reduces complexity by hiding irrelevant detail, generalization reduces complexity by replacing multiple entities which perform similar functions with a single construct. Lets take the old example of a system that manages books for a library. A book has tons of properties (number of pages, weight, font size(s), cover,...) but for the purpose of our library we may only need Book(title, ISBN, borrowed). We just abstracted from the real books in our library, and only took the properties that interested us in the context of our application.\n",
    "\n",
    "Generalization on the other hand does not try to remove detail but to make functionality applicable to a wider (more generic) range of items. Generic containers are a very good example for that mindset: You wouldn't want to write an implementation of StringList, IntList, and so on, which is why you'd rather write a generic List which applies to all types. Note that you haven't abstracted the list, because you didn't remove any details or operations, you just made them generically applicable to all your types."
   ]
  },
  {
   "cell_type": "markdown",
   "id": "fc434260",
   "metadata": {},
   "source": [
    "### 2. Learning that is guided and unsupervised:\n",
    "\n",
    "Text classification, before hand it is guided which is sometimes also known as semi-superised. we provide the data that how will the data look like by providing certain examples, then the systems learns and find new patterns by itself. Then sometimes it generalizes the data better than before by performing clusters which it has not even seen before. Education system could be a good example in this context."
   ]
  },
  {
   "cell_type": "markdown",
   "id": "fa19d36a",
   "metadata": {},
   "source": [
    "### 3. Regression and classification:\n",
    "\n",
    "Classification is a subcategory of supervised learning where the goal is to predict the categorical class labels of new instances or data points based on past observations. Those class labels are discrete, unordered values that can be understood as the group memberships of the data points. The example of email spam detection represents a typical example of a binary classification task, where the machine learning algorithm learns a set of rules to distinguish between two possible classes: spam and non-spam emails. However, the set of class labels does not have to be of a binary nature. The predictive model learned by a supervised learning algorithm can assign any class label that was presented in the training dataset to a new, unlabeled data point or instance.\n",
    "\n",
    "In regression analysis, we are given a number of predictor (explanatory) variables and a continuous response variable (outcome), and we try to find a relationship between those variables that allows us to predict an outcome. For example, let's assume that we are interested in predicting the math SAT scores of students. If there is a relationship between the time spent studying for the test and the final scores, we could use it as training data to learn a model that uses the study time to predict the test scores of future students who are planning to take this test."
   ]
  },
  {
   "cell_type": "code",
   "execution_count": null,
   "id": "52b076ae",
   "metadata": {},
   "outputs": [],
   "source": []
  }
 ],
 "metadata": {
  "kernelspec": {
   "display_name": "Python 3 (ipykernel)",
   "language": "python",
   "name": "python3"
  },
  "language_info": {
   "codemirror_mode": {
    "name": "ipython",
    "version": 3
   },
   "file_extension": ".py",
   "mimetype": "text/x-python",
   "name": "python",
   "nbconvert_exporter": "python",
   "pygments_lexer": "ipython3",
   "version": "3.9.7"
  }
 },
 "nbformat": 4,
 "nbformat_minor": 5
}
