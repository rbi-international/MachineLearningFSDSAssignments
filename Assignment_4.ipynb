{
 "cells": [
  {
   "cell_type": "markdown",
   "id": "76d99f58",
   "metadata": {},
   "source": [
    "## 1. What are the key tasks involved in getting ready to work with machine learning modeling?"
   ]
  },
  {
   "cell_type": "markdown",
   "id": "4a952959",
   "metadata": {},
   "source": [
    "For working with machine learning models, we need to prepare our data in the format which our data understands. \n",
    "\n",
    "### * **Preprocessing - getting data into shape:**\n",
    "\n",
    "* missing data handling\n",
    "* Initial feature extraction and selection\n",
    "* Feature Scaling\n",
    "* Dimensionality reduction:\n",
    "    * Feature selection\n",
    "    * Feature extraction\n",
    "    \n",
    "These are the main key tasks which are important when we want our data ready for working with a machine learning model."
   ]
  },
  {
   "cell_type": "markdown",
   "id": "033dd689",
   "metadata": {},
   "source": [
    "## 2. What are the different forms of data used in machine learning? Give a specific example for each of them."
   ]
  },
  {
   "cell_type": "markdown",
   "id": "ecbbd7ec",
   "metadata": {},
   "source": [
    "The different forms of data used in machine learning are:\n",
    "\n",
    "1. Numerical data\n",
    "2. Categorical data\n",
    "3. Time-series data\n",
    "4. Text data\n",
    "\n",
    "### **1. Numerical data:**\n",
    "\n",
    "The data is in the form of exact numbers. Statisticians might call it numerical data, qualitative data. such as height, weight, number of students etc. Then again data is divided into two sub-categories known as continuous data and Discrete data.\n",
    "\n",
    "* Continuous data: Here it can be height, weight, salary, temperature, interest rates etc. Example: 23.5, 84.5, 36.7\n",
    "\n",
    "* Discrete data: here it can be units sold, number of languages, Number of students etc. Example: 36, 12, 28\n",
    "\n",
    "### **Categorical data:**\n",
    "\n",
    "Categorical data represents characteristics, such as a hockey player's position, team, hometown. Categorical data can take numerical values. For example, maybe we would use 1 for the colour red and 2 for blue. But these numbers don't have a mathematical meaning. That is, we can't add them together or take the average. In categorical data also we have two sub-categories.\n",
    "\n",
    "* Ordinal data: In this categorical data, order matters. There is also something called ordinal data, which in some sense is a mix of numerical and categorical data. In ordinal data, the data still falls into categories, but those categories are ordered or ranked in some particular way. An example would be class difficulty, such as beginner, intermediate, and advanced. Those three types of classes would be a way that we could label the classes, and they have a natural order in increasing difficulty.\n",
    "\n",
    "* Nominal data: The order of the data does not matters. suppose we have Male and Female as category, we could simply label them as 0 and 1, we have colours red and green, label them 0 and 1. As order does not matter so it's simple.\n",
    "\n",
    "### **Time-series data:**\n",
    "\n",
    "Time series data is a sequence of numbers collected at regular intervals over some period of time. It is very important, especially in particular fields like finance. Time series data has a temporal value attached to it, so this would be something like a date or a timestamp that you can look for trends in time.\n",
    "\n",
    "For example, we might measure the average number of home sales for many years. The difference of time series data and numerical data is that rather than having a bunch of numerical values that don’t have any time ordering, time-series data does have some implied ordering. There is a first data point collected and the last data point collected.\n",
    "\n",
    "### **Text data:**\n",
    "\n",
    "Text data is basically just words. A lot of the time the first thing that you do with text is you turn it into numbers using some interesting functions like the bag of words (BoW) formulation. we could also use inverse document frequency (IDF)."
   ]
  },
  {
   "cell_type": "markdown",
   "id": "de5c4df5",
   "metadata": {},
   "source": [
    "## 3. Distinguish:\n",
    "\n",
    "    1. Numeric vs. categorical attributes\n",
    "\n",
    "    2. Feature selection vs. dimensionality reduction\n"
   ]
  },
  {
   "cell_type": "markdown",
   "id": "ee0c5aab",
   "metadata": {},
   "source": [
    "### 1. Numeric vs. categorical attributes: \n",
    "\n",
    "The numerical attributes having the number values having continuous values like 23.5, 67.9, 29.8 and also some values have discrete values like 0 and 1. Example: height, weight, number of students, Number of languages, Temperature etc.\n",
    "\n",
    "### 2. Feature selection vs. dimensionality reduction:\n",
    "\n",
    "While both methods are used for reducing the number of features in a dataset, there is an important difference. Feature selection is simply selecting and excluding given features without changing them. Dimensionality reduction transforms features into a lower dimension. \n",
    "\n",
    "* Remove features with missing values\n",
    "* Remove features with low variance\n",
    "* Remove highly correlated features\n",
    "\n",
    "and for dimensionality reduction we use Principal Component Analysis (PCA), Linear discriminant analysis (LDA), Generalized discriminant analysis (GDA) etc."
   ]
  },
  {
   "cell_type": "markdown",
   "id": "244c7fb5",
   "metadata": {},
   "source": [
    "## 4. Make quick notes on any two of the following:\n",
    "\n",
    "    1. The histogram\n",
    "\n",
    "    2. Use a scatter plot\n",
    "\n",
    "    3.PCA (Personal Computer Aid)\n"
   ]
  },
  {
   "cell_type": "markdown",
   "id": "e3292cfa",
   "metadata": {},
   "source": [
    "**1. The histogram:**\n",
    "\n",
    "A histogram is a way to visualize a frequency table, with bins on the x-axis and the data count on the y-axis. Pandas supports histograms for data frames with the DataFrame.plot.hist method. The various plot methods return an axis object that allows further fine-tuning of the visualization using Matplotlib. In general, histograms are plotted such that:\n",
    "\n",
    "* Empty bins are included in the graph\n",
    "* Bins are of equal width\n",
    "* The number of bins (or, equivalently, bin size) is up to the user.\n",
    "* Bars are contiguous - no empty space shows between bars, unless there is an empty bin.\n",
    "\n",
    "**2. Use a Scatter plot:**\n",
    "\n",
    "The standard way to visualize the relationship between two measured data variables is with a scatterplot. The x-axis represents one variable and the y-axis another, and each points on the graph is a record."
   ]
  },
  {
   "cell_type": "code",
   "execution_count": 12,
   "id": "01341c26",
   "metadata": {},
   "outputs": [
    {
     "data": {
      "text/plain": [
       "Text(0.5, 0, 'Population (millions)')"
      ]
     },
     "execution_count": 12,
     "metadata": {},
     "output_type": "execute_result"
    },
    {
     "data": {
      "image/png": "[encoded data removed]",
      "text/plain": [
       "<Figure size 288x288 with 1 Axes>"
      ]
     },
     "metadata": {
      "needs_background": "light"
     },
     "output_type": "display_data"
    }
   ],
   "source": [
    "import pandas as pd\n",
    "import matplotlib.pyplot as plt\n",
    "\n",
    "state = pd.read_csv(\"https://raw.githubusercontent.com/gedeck/practical-statistics-for-data-scientists/master/data/state.csv\")\n",
    "ax = (state[\"Population\"] / 1_000_000).plot.hist(figsize = (4, 4))\n",
    "ax.set_xlabel(\"Population (millions)\")"
   ]
  },
  {
   "cell_type": "code",
   "execution_count": 6,
   "id": "293121ba",
   "metadata": {},
   "outputs": [
    {
     "name": "stdout",
     "output_type": "stream",
     "text": [
      "                   T       CTL       FTR        VZ      LVLT\n",
      "2012-07-02  0.422496  0.140847  0.070879  0.554180 -0.519998\n",
      "2012-07-03 -0.177448  0.066280  0.070879 -0.025976 -0.049999\n",
      "2012-07-05 -0.160548 -0.132563  0.055128 -0.051956 -0.180000\n",
      "2012-07-06  0.342205  0.132563  0.007875  0.140106 -0.359999\n",
      "2012-07-09  0.136883  0.124279 -0.023626  0.253943  0.180000\n",
      "...              ...       ...       ...       ...       ...\n",
      "2015-06-25  0.049342 -1.600000 -0.040000 -0.187790 -0.330002\n",
      "2015-06-26 -0.256586  0.039999 -0.070000  0.029650 -0.739998\n",
      "2015-06-29 -0.098685 -0.559999 -0.060000 -0.504063 -1.360000\n",
      "2015-06-30 -0.503298 -0.420000 -0.070000 -0.523829  0.199997\n",
      "2015-07-01 -0.019737  0.080000 -0.050000  0.355811  0.139999\n",
      "\n",
      "[754 rows x 5 columns]\n"
     ]
    }
   ],
   "source": [
    "import pandas as pd\n",
    "import matplotlib.pyplot as plt\n",
    "## Correlation\n",
    "# First read the required datasets\n",
    "\n",
    "sp500_sym = pd.read_csv(\"https://raw.githubusercontent.com/gedeck/practical-statistics-for-data-scientists/master/data/sp500_sectors.csv\")\n",
    "sp500_px = pd.read_csv(\"sp500_data.csv\", index_col=0)\n",
    "# Determine telecommunications symbols\n",
    "telecomSymbols = sp500_sym[sp500_sym['sector'] == 'telecommunications_services']['symbol']\n",
    "\n",
    "# Filter data for dates July 2012 through June 2015\n",
    "telecom = sp500_px.loc[sp500_px.index >= '2012-07-01', telecomSymbols]\n",
    "telecom.corr()\n",
    "print(telecom)"
   ]
  },
  {
   "cell_type": "code",
   "execution_count": 7,
   "id": "8ea5cfa5",
   "metadata": {},
   "outputs": [
    {
     "data": {
      "image/png": "[encoded data removed]",
      "text/plain": [
       "<Figure size 288x288 with 1 Axes>"
      ]
     },
     "metadata": {
      "needs_background": "light"
     },
     "output_type": "display_data"
    }
   ],
   "source": [
    "### Scatterplots\n",
    "# Simple scatterplots are supported by _pandas_. Specifying the marker as `$\\u25EF$` uses an open circle for each point.\n",
    "\n",
    "ax = telecom.plot.scatter(x='T', y='VZ', figsize=(4, 4), marker='$\\u25EF$')\n",
    "ax.set_xlabel('ATT (T)')\n",
    "ax.set_ylabel('Verizon (VZ)')\n",
    "ax.axhline(0, color='grey', lw=1)\n",
    "ax.axvline(0, color='grey', lw=1)\n",
    "\n",
    "plt.tight_layout()\n",
    "plt.show()"
   ]
  },
  {
   "cell_type": "markdown",
   "id": "9049ce36",
   "metadata": {},
   "source": [
    "* The correlation coefficient measures the extent to which two paired variables (e.g., height and weight for individuals) are associated with one another.\n",
    "* When high values of x1 go with high values of x2, x1 and x2 are positively associated.\n",
    "* When high vaues of x1 go with low values of x2, x1 and x2 are negatively associated.\n",
    "* The correlation coefficient is a standardized metric, so that it always ranges from -1 (perfect negative correlation) to +1 (perfect positive correlation).\n",
    "* A correlation coefficient of zero indicates no correlation, but be aware that random arrangements of data will produce both positive and negative values for the correlation coefficient just by chance."
   ]
  },
  {
   "cell_type": "markdown",
   "id": "c752ca4f",
   "metadata": {},
   "source": [
    "## 5. Why is it necessary to investigate data? Is there a discrepancy in how qualitative and quantitative data are explored?"
   ]
  },
  {
   "cell_type": "markdown",
   "id": "14a74b47",
   "metadata": {},
   "source": [
    "Data plays an important role as it the base for solving any time of problem. It is always necessary to investigate data as what is the type of the data and how we should proceed with it. As qualitative and quantitative data are concerned, they both are different.\n",
    "\n",
    "**Qualitative data:**\n",
    "\n",
    "1. Qualitative data uses methods like interviews, participant observation, focus on a grouping to gain collective information.\n",
    "\n",
    "2. Data format used in it is textual. Datasheets are contained of audio or video recordings and notes. \n",
    "\n",
    "3. Qualitative data talks about the experience or quality and explains the questions like 'why' and 'how'.\n",
    "\n",
    "4. The data is analyzed by grouping it into different categories.\n",
    "\n",
    "**Quantitatative data:**\n",
    "\n",
    "1. Quantitative data uses methods as questionnaires, surveys, and structural observations to gain collective information.\n",
    "\n",
    "2. Data format used in it is numerical. Datasheets are obtained in the form of numerical values.\n",
    "\n",
    "3. Quantitative data talks about the quantity and explains the questions like 'how much', 'how many'.\n",
    "\n",
    "4. The data is analyzed by statistical methods.\n",
    "\n",
    "5. Quantitative data are fixed and universal."
   ]
  },
  {
   "cell_type": "markdown",
   "id": "01dcce2f",
   "metadata": {},
   "source": [
    "## 6. What are the various histogram shapes? What exactly are ‘bins'?"
   ]
  },
  {
   "cell_type": "markdown",
   "id": "9f9a0e06",
   "metadata": {},
   "source": [
    "A histogram is a type of chart that allows us to visualize the distribution of values in a dataset.\n",
    "![histograms](https://www.statology.org/wp-content/uploads/2021/08/hist_shape1-768x389.png)\n",
    "\n",
    "The x-axis displays the values in the dataset and the y-axis shows the frequency of each value. Depending on the values in the dataset, a histogram can take on many different shapes. A histogram displays numerical data by grouping data into \"bins\" of equal width. Each bin is plotted as a bar whose height corresponds to how many data points are in that bin. Bins are also sometimes called \"intervals\", \"classes\", or \"buckets\"\n",
    "\n",
    "**The various shapes of histogram are as:**\n",
    "\n",
    "### 1. Bell-Shaped: \n",
    "\n",
    "A histogram is bell-shaped if it resembles a \"bell\" curve and has one single peak in the middle of the distribution. The most common real-life example of this type of distribution is the normal distribution.\n",
    "![bell-shaped](https://www.statology.org/wp-content/uploads/2021/08/hist_shape2-768x404.png)\n",
    "\n",
    "### 2. Uniform:\n",
    "\n",
    "A histogram is described as \"uniform\" if every value in a dataset occurs roughly the same number of times. This type of histogram often looks like a rectangle with no clear peaks.\n",
    "![uniform](https://www.statology.org/wp-content/uploads/2021/08/hist_shape3-768x386.png)\n",
    "\n",
    "### 3. Bimodal:\n",
    "\n",
    "A histogram is described as \"bimodal\" if it has two distinct peaks. We often say that this type of distribution has multiple modes – that is, multiple values occur most frequently in the dataset.\n",
    "![Bimodal](https://www.statology.org/wp-content/uploads/2021/08/hist_shape4-768x396.png)\n",
    "\n",
    "### 4. Multimodal:\n",
    "\n",
    "A histogram is described as \"multimodal\" if it has more than two distinct peaks.\n",
    "![Multimodal](https://www.statology.org/wp-content/uploads/2021/08/hist_shape5-768x411.png)\n",
    "\n",
    "### 5. Left Skewed:\n",
    "\n",
    "A histogram is left skewed if it has a \"tail\" on the left side of the distribution. Sometimes this type of distribution is also called \"negatively\" skewed.\n",
    "![Left skewed](https://www.statology.org/wp-content/uploads/2021/08/hist_shape6-768x413.png)\n",
    "\n",
    "### 6. Right Skewed:\n",
    "\n",
    "A histogram is right skewed if it has a \"tail\" on the right side of the distribution. Sometimes this type of distribution is also called \"positively\" skewed.\n",
    "![Right skewed](https://www.statology.org/wp-content/uploads/2021/08/hist_shape7-768x431.png)\n",
    "\n",
    "### 7. Random:\n",
    "\n",
    "The shape of a distribution can be described as \"random\" if there is no clear pattern in the data at all.\n",
    "![Random](https://www.statology.org/wp-content/uploads/2021/08/hist_shape8-768x392.png)\n"
   ]
  },
  {
   "cell_type": "markdown",
   "id": "723bdc81",
   "metadata": {},
   "source": [
    "## 7. How do we deal with data outliers?"
   ]
  },
  {
   "cell_type": "markdown",
   "id": "a05999ef",
   "metadata": {},
   "source": [
    "Records (or outcome values) that are distant from the rest of the data (or the predicted outcome). We could deal with outliers by checking into the data for location and estimation of variablility of the data. \n",
    "\n",
    "In data, we have to **estimate the location** of data which includes:\n",
    "\n",
    "* Mean aka average\n",
    "* Weighted Sum aka weighted average\n",
    "* Median aka 50th percentile\n",
    "* Percentile aka quantile\n",
    "* Weighted median\n",
    "* Trimmed mean aka truncated mean\n",
    "* Robust aka resistant\n",
    "* outlier aka extreme value\n",
    "\n",
    "In data we also have to **Estimate the variability of data** which includes:\n",
    "\n",
    "* Deviations aka errors, residuals\n",
    "* Variance aka mean-squared error\n",
    "* Standard deviation \n",
    "* Mean absolute deviation aka L2 norm, Manhattan norm\n",
    "* Range \n",
    "* Order statistics aka ranks\n",
    "* Percentile aka quantile\n",
    "* Interquantile range aka IQR\n",
    "\n",
    "\n",
    "We usually handle outlier data using Boxplot and sometimes histogram as well, where we can see the extreme values and then apply median, standard deviation and some other techniques to handle them"
   ]
  },
  {
   "cell_type": "markdown",
   "id": "9c8b4b51",
   "metadata": {},
   "source": [
    "## 8. What are the various central inclination measures? Why does mean vary too much from median in certain data sets?"
   ]
  },
  {
   "cell_type": "markdown",
   "id": "87dd1032",
   "metadata": {},
   "source": [
    "The various central inclination measures are as:\n",
    "1. Mean\n",
    "2. Median\n",
    "3. Mode\n",
    "\n",
    "In statistics, for a moderately skewed distribution, there exists a relation between mean, median and mode. This mean median and mode relationship is known as the \"empirical relationship\" which is defined as Mode is equal to the difference between 3 times the median and 2 times the mean.\n",
    "\n",
    "* Mean is the average of the data set which is calculated by adding all the data values together and dividing it by the total number of data sets.\n",
    "* Median is the middle value among the observed set of values and is calculated by arranging the values in ascending order or in descending order and then choosing the middle value.\n",
    "* Mode is the number from a data set which has the highest frequency and is calculated by counting the number of times each data value occurs.\n",
    "\n",
    "The proof of the mean, median, mode formula can be understood using Karl Pearson’s formula, which states:\n",
    "\n",
    "(Mean - Median) = 1/3 (Mean - Mode)\n",
    "\n",
    "3 (Mean - Median) = (Mean - Mode)\n",
    "\n",
    "3 Mean - 3 Median = Mean - Mode\n",
    "\n",
    "3 Median = 3 Mean - Mean + Mode\n",
    "\n",
    "3 Median = 2 Mean + Mode\n",
    "\n",
    "The mean vary too much from median in certain data sets because, median just takes the middle value in the whole dataset but in mean the average is taken and when we draw it on the graph we can see that mean varies too much while mode remains at the center always."
   ]
  },
  {
   "cell_type": "markdown",
   "id": "fe4c39e5",
   "metadata": {},
   "source": [
    "## 9. Describe how a scatter plot can be used to investigate bivariate relationships. Is it possible to find outliers using a scatter plot?"
   ]
  },
  {
   "cell_type": "code",
   "execution_count": 19,
   "id": "3e0a9a19",
   "metadata": {},
   "outputs": [
    {
     "data": {
      "text/plain": [
       "<matplotlib.collections.PathCollection at 0x17075679c70>"
      ]
     },
     "execution_count": 19,
     "metadata": {},
     "output_type": "execute_result"
    },
    {
     "data": {
      "image/png": "[encoded data removed]",
      "text/plain": [
       "<Figure size 432x288 with 1 Axes>"
      ]
     },
     "metadata": {
      "needs_background": "light"
     },
     "output_type": "display_data"
    }
   ],
   "source": [
    "x = [20,30,60,90,120]\n",
    "y = [40,50,80,100,500]\n",
    "plt.scatter(x,y)"
   ]
  },
  {
   "cell_type": "markdown",
   "id": "cd9b35b9",
   "metadata": {},
   "source": [
    "Here in the diagram we can see that there is a outlier in the data. We know that when we take two features into consideration at the same time. It is known as Bi-variarte relationship. In x and y, when we plot scatter plots, we can see a outlier in the scatter plot. "
   ]
  },
  {
   "cell_type": "markdown",
   "id": "961a41f2",
   "metadata": {},
   "source": [
    "## 10. Describe how cross-tabs can be used to figure out how two variables are related."
   ]
  },
  {
   "cell_type": "markdown",
   "id": "515685fa",
   "metadata": {},
   "source": [
    "To describe the relationship between two categorical variables, we use a special type of table called a cross-tabulation (or \"crosstab\" for short). In a cross-tabulation, the categories of one variable determine the rows of the table, and the categories of the other variable determine the columns. \n",
    "\n",
    "**Example:**\n",
    "\n",
    "![cross tab](https://lgimages.s3.amazonaws.com/data/imagemanager/68594/spss_crosstabs_genderalcohol_opt.png)"
   ]
  },
  {
   "cell_type": "code",
   "execution_count": null,
   "id": "468ecd12",
   "metadata": {},
   "outputs": [],
   "source": []
  }
 ],
 "metadata": {
  "kernelspec": {
   "display_name": "Python 3 (ipykernel)",
   "language": "python",
   "name": "python3"
  },
  "language_info": {
   "codemirror_mode": {
    "name": "ipython",
    "version": 3
   },
   "file_extension": ".py",
   "mimetype": "text/x-python",
   "name": "python",
   "nbconvert_exporter": "python",
   "pygments_lexer": "ipython3",
   "version": "3.9.7"
  }
 },
 "nbformat": 4,
 "nbformat_minor": 5
}
