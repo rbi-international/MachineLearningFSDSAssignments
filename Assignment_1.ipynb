{
 "cells": [
  {
   "cell_type": "markdown",
   "id": "b004586b",
   "metadata": {},
   "source": [
    "## 1. What does one mean by the term \"machine learning\"?"
   ]
  },
  {
   "cell_type": "markdown",
   "id": "07861e20",
   "metadata": {},
   "source": [
    "### A computer Program is said to learn from experience E with respect to some task T and some performance measure P, if its performance on T, as measured by P, improves with experience E"
   ]
  },
  {
   "cell_type": "markdown",
   "id": "e9ee4bfc",
   "metadata": {},
   "source": [
    "## 2.Can you think of 4 distinct types of issues where it shines?"
   ]
  },
  {
   "cell_type": "markdown",
   "id": "e8df4909",
   "metadata": {},
   "source": [
    "1. If the existing solution requires a lot of fine tuning, ML could simplify it.\n",
    "\n",
    "2. Classifying mails as spam and ham.\n",
    "\n",
    "3. Recommending a product to a customer.\n",
    "\n",
    "4. Detecting the frauds in Credit cards, Debit Cards etc."
   ]
  },
  {
   "cell_type": "markdown",
   "id": "9ca0ce81",
   "metadata": {},
   "source": [
    "## 3.What is a labeled training set, and how does it work?"
   ]
  },
  {
   "cell_type": "markdown",
   "id": "c0606081",
   "metadata": {},
   "source": [
    "If we want to train our network on some teeths, in which there is a decay and healthy tooth. We train our model on that training set which is labeled and then we will test it on our test day by showing it random images of healthy and decay tooth."
   ]
  },
  {
   "cell_type": "markdown",
   "id": "057e5e58",
   "metadata": {},
   "source": [
    "### 4.What are the two most important tasks that are supervised?"
   ]
  },
  {
   "cell_type": "markdown",
   "id": "4e0878aa",
   "metadata": {},
   "source": [
    "1. Classification\n",
    "2. Regression"
   ]
  },
  {
   "cell_type": "markdown",
   "id": "fd44e38a",
   "metadata": {},
   "source": [
    "## 5.Can you think of four examples of unsupervised tasks?"
   ]
  },
  {
   "cell_type": "markdown",
   "id": "2240c331",
   "metadata": {},
   "source": [
    "1. Classifying the data of the number of people visiting on a particular website.\n",
    "2. Anomaly detection or Novelty detection.\n",
    "3. Association rule --> in which at a supermarket what things to place with which particular thing so that people will buy those both items.\n",
    "4. Finding a car's average after reducing the features performing a dimensionality reduction without losing too much data."
   ]
  },
  {
   "cell_type": "markdown",
   "id": "ba496837",
   "metadata": {},
   "source": [
    "## 6.State the machine learning model that would be best to make a robot walk through various unfamiliar terrains?"
   ]
  },
  {
   "cell_type": "markdown",
   "id": "ce40c245",
   "metadata": {},
   "source": [
    "It would be Reinforcement Learning"
   ]
  },
  {
   "cell_type": "markdown",
   "id": "a1ce38e2",
   "metadata": {},
   "source": [
    "## 7.Which algorithm will you use to divide your customers into different groups?"
   ]
  },
  {
   "cell_type": "markdown",
   "id": "e3bff92c",
   "metadata": {},
   "source": [
    "We could use Clustering algorithms"
   ]
  },
  {
   "cell_type": "markdown",
   "id": "dcc3d273",
   "metadata": {},
   "source": [
    "## 8.Will you consider the problem of spam detection to be a supervised or unsupervised learning problem?"
   ]
  },
  {
   "cell_type": "markdown",
   "id": "c6c8efce",
   "metadata": {},
   "source": [
    "It would be a supervised problem beacause the model will be trained with many examples of spam and ham as labels so that the model could classify new emails."
   ]
  },
  {
   "cell_type": "markdown",
   "id": "932c13d1",
   "metadata": {},
   "source": [
    "## 9.What is the concept of an online learning system?"
   ]
  },
  {
   "cell_type": "markdown",
   "id": "6a6c7143",
   "metadata": {},
   "source": [
    "In online learning, the data is feed to the system in mini-batches and not as a whole. The system learns about the new data on the fly as it arrives. It is faster and cheaper."
   ]
  },
  {
   "cell_type": "markdown",
   "id": "21f59047",
   "metadata": {},
   "source": [
    "## 10.What is out-of-core learning, and how does it differ from core learning?"
   ]
  },
  {
   "cell_type": "markdown",
   "id": "be113ce3",
   "metadata": {},
   "source": [
    "In Out-of-Core learning, the learning happens in offline mode, when whole data can not fit on the main memory of a machine so the algorithms loads a part of the data, training happens on that and repeats until it runs on whole dataset. \n",
    "\n",
    "While core learning is simply online learning and works on small datasets."
   ]
  },
  {
   "cell_type": "markdown",
   "id": "1df5080d",
   "metadata": {},
   "source": [
    "## 11.What kind of learning algorithm makes predictions using a similarity measure?"
   ]
  },
  {
   "cell_type": "markdown",
   "id": "daac481b",
   "metadata": {},
   "source": [
    "Instance based Learning"
   ]
  },
  {
   "cell_type": "markdown",
   "id": "0ba13463",
   "metadata": {},
   "source": [
    "## 12.What's the difference between a model parameter and a hyperparameter in a learning algorithm?"
   ]
  },
  {
   "cell_type": "markdown",
   "id": "618c2ffd",
   "metadata": {},
   "source": [
    "A model can have one or more parameters which it will use for predicting the new values e.g., slope of a linear model. The learning algrotihm will help in optimizing the values so that it will generalize well.\n",
    "\n",
    "While hyperparameter is the parameter of the algorithm such as Regularization ->> how much to use "
   ]
  },
  {
   "cell_type": "markdown",
   "id": "79aec2f0",
   "metadata": {},
   "source": [
    "## 13.What are the criteria that model-based learning algorithms look for? What is the most popular method they use to achieve success? What method do they use to make predictions?"
   ]
  },
  {
   "cell_type": "markdown",
   "id": "1f33f243",
   "metadata": {},
   "source": [
    "Model based learning algorithms try to optimize the parameters of the model for finding the best parameters. They do so by reducing the cost function which is the difference between the predicted values and the actual values, and penalising by using some regularization method for making the model a generalized one. \n",
    "\n",
    "Then the prediction on the new data is done using the models prediction method and using the optimized values which are found by the model."
   ]
  },
  {
   "cell_type": "markdown",
   "id": "93bcc9e2",
   "metadata": {},
   "source": [
    "## 14.Can you name four of the most important Machine Learning challenges?"
   ]
  },
  {
   "cell_type": "markdown",
   "id": "fe80a649",
   "metadata": {},
   "source": [
    "1. Lack of data.\n",
    "2. poor data.\n",
    "3. non - reperesentative data.\n",
    "4. un- informative data."
   ]
  },
  {
   "cell_type": "markdown",
   "id": "91c13a26",
   "metadata": {},
   "source": [
    "## 15.What happens if the model performs well on the training data but fails to generalize the results to new situations? Can you think of three different options?"
   ]
  },
  {
   "cell_type": "markdown",
   "id": "a0be0f39",
   "metadata": {},
   "source": [
    " If the model performs well on the training data but fails to generalize the results to new situations, then the model is likely Overfitting the data. Then we can:\n",
    " 1. Get more data\n",
    " 2. Use less number of parameters.\n",
    " 3. select a simple algorithm\n",
    " 4. Regularzing the model"
   ]
  },
  {
   "cell_type": "markdown",
   "id": "0757052a",
   "metadata": {},
   "source": [
    "## 16.What exactly is a test set, and why would you need one?"
   ]
  },
  {
   "cell_type": "markdown",
   "id": "4128ed3f",
   "metadata": {},
   "source": [
    "We use the test set to check if our model is a generalized one or not, how well it will perform on new instances wgen we put that model into the production."
   ]
  },
  {
   "cell_type": "markdown",
   "id": "89bd4b1f",
   "metadata": {},
   "source": [
    "## 17.What is a validation set's purpose?"
   ]
  },
  {
   "cell_type": "markdown",
   "id": "738e188d",
   "metadata": {},
   "source": [
    "It is used for comparing the models. we can select the best model model and also tune the hyperparameters."
   ]
  },
  {
   "cell_type": "markdown",
   "id": "da5267d2",
   "metadata": {},
   "source": [
    "## 18.What precisely is the train-dev kit, when will you need it, how do you put it to use?"
   ]
  },
  {
   "cell_type": "markdown",
   "id": "61981c8e",
   "metadata": {},
   "source": [
    "The train-dev set is used when there is a chance that data mismatch could happen between the training data and the data used in the validation data and the test data. The train-dev set is the part of the dataset which is held out and no training is performed on that. After training of the data on the rest of the dataset, we evaluate on the validation data and on train-dev data. If model performs well on the training data but not on the train-dev data, then the model is likely overfitting. But if the data performs well on the training data and as well on the train-dev data but not on the validation data, then there is a data mismatch between the training data + test data. We should try to improve our training data to make it look more like validation + test data."
   ]
  },
  {
   "cell_type": "markdown",
   "id": "c0c30af7",
   "metadata": {},
   "source": [
    "## 19.What could go wrong if you use the test set to tune hyperparameters?"
   ]
  },
  {
   "cell_type": "markdown",
   "id": "c3ceec67",
   "metadata": {},
   "source": [
    "If we use the test set to tune hyperparameters, then there can be an issue of overfitting on the test set, and the model which we will create will not be a generalized one. We could end up creating a worst model."
   ]
  },
  {
   "cell_type": "code",
   "execution_count": null,
   "id": "710832c7",
   "metadata": {},
   "outputs": [],
   "source": []
  }
 ],
 "metadata": {
  "kernelspec": {
   "display_name": "Python 3 (ipykernel)",
   "language": "python",
   "name": "python3"
  },
  "language_info": {
   "codemirror_mode": {
    "name": "ipython",
    "version": 3
   },
   "file_extension": ".py",
   "mimetype": "text/x-python",
   "name": "python",
   "nbconvert_exporter": "python",
   "pygments_lexer": "ipython3",
   "version": "3.9.7"
  }
 },
 "nbformat": 4,
 "nbformat_minor": 5
}
