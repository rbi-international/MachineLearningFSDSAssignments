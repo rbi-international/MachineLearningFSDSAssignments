{
 "cells": [
  {
   "cell_type": "markdown",
   "id": "75219290",
   "metadata": {},
   "source": [
    "## 1. What is the concept of human learning? Please give two examples."
   ]
  },
  {
   "cell_type": "markdown",
   "id": "685043b3",
   "metadata": {},
   "source": [
    "Human learning of some task happens by repeating the process again and again until they become quite comfortable in doing that task.\n",
    "\n",
    "e.g., When a human tries to learn walking. They try walking and fail miserably at first time but then after some repetition and analyzing the variables which are there in learning how to walk, they finally do so.\n",
    "\n",
    "One more example is when humans try to write and read for the first time. At start they can't even spell some basic words like apple, elephant, but again after repetition and a pattern formation in some time, they get succeess in this task as well."
   ]
  },
  {
   "cell_type": "markdown",
   "id": "432e5d00",
   "metadata": {},
   "source": [
    "## 2. What different forms of human learning are there? Are there any machine learning equivalents?"
   ]
  },
  {
   "cell_type": "markdown",
   "id": "71217739",
   "metadata": {},
   "source": [
    "Basically there are 5 senses of human beings:\n",
    "1. Seeing\n",
    "2. Hearing\n",
    "3. Smell\n",
    "4. Taste\n",
    "5. Touch\n",
    "\n",
    "A human sees and starts analyzing what they see, they hear and then analyze what they are speaking, they smell so that they know what it is, by touching they could also feel what it is, taste also develops after learning.\n",
    "\n",
    "If we compare all these in aspect of Machine Learning, A camera is used for object detection and then analyzing what type of object it is.\n",
    "\n",
    "secondly, now touch and smell are not there, but speaking what a robot sees is same like humans.\n",
    "\n",
    "we use CNN for seeing purpose, NLP for natural language purpose, and RNN for memory requirements needed."
   ]
  },
  {
   "cell_type": "markdown",
   "id": "a261a147",
   "metadata": {},
   "source": [
    "## 3. What is machine learning, and how does it work? What are the key responsibilities of machine learning?"
   ]
  },
  {
   "cell_type": "markdown",
   "id": "cd958940",
   "metadata": {},
   "source": [
    "Machine Learning is a way through which we try to make a system which is not explicitly programmed, the system tries to self identify the pattern itslef, we just try to provide the input and the expected output, how the system will do it is not given. e.g., cooking a dish --> we will provide the input ingredients and the output of the dish which we want, but not how to make it, the system will self analyze and try to make the dish itself. \n",
    "\n",
    "![ML Diagram](https://d1m75rqqgidzqn.cloudfront.net/2019/10/What-is-Machine-Learning-Machine-learning-model-vs-traditional-model.jpg)\n",
    "\n",
    "Key responsibilities\n",
    "---\n",
    "\n",
    "`Input data points` --> for instance if the task is speech recognition, these data points could be sound files of people speaking. if the task is image tagging, they could be pictures.\n",
    "\n",
    "`Examples of expected output` --> In a speech-recognition task, these could be human-generated transcripts of sound files. In an image task, expected outputs could be tags such as \"dog\", \"cat\", and so on.\n",
    "\n",
    "`A way to measure whether the algorithm is doing a good job` --> This is necessary in order to determine the distance between the algorithm's current output and its expected output. The measurement is used as a feedback signal to adjust the way the algorithm works. `This adjustment step is what we call learning.`\n",
    "\n",
    "A machine learning model transforms its input data into meaningful outputs, a process that is \"learned\" from exposure to known examples of inputs and outputs. Therefore the central problem in Machine Learning and Deep Learning is to meaningfully transform data; in other words, to learn useful representations of the input data at hand --- representations that get us closer to the expected output. "
   ]
  },
  {
   "cell_type": "markdown",
   "id": "4677ee36",
   "metadata": {},
   "source": [
    "## 4. Define the terms \"penalty\" and \"reward\" in the context of reinforcement learning."
   ]
  },
  {
   "cell_type": "markdown",
   "id": "60466675",
   "metadata": {},
   "source": [
    "The learning system, called an agent in the context of Reinforcement learning, can observe the environment, select and perform actions, and get `rewards` in return (or `penalities` in the form of negative rewards). It must then learn by itself what is the best strategy, called a `policy`, to get the most `reward` over time. A `policy` defines what action the agent should choose when it is in a given situation.\n",
    "\n",
    "![ML Diagram](https://www.researchgate.net/profile/Hamid-Tizhoosh/publication/220201874/figure/fig2/AS:667826847244293@1536233736266/Reinforcement-learning-block-diagram.png)"
   ]
  },
  {
   "cell_type": "markdown",
   "id": "6f27e3dc",
   "metadata": {},
   "source": [
    "## 5. Explain the term \"learning as a search\"?"
   ]
  },
  {
   "cell_type": "markdown",
   "id": "cd678713",
   "metadata": {},
   "source": [
    "`learning as a search`\n",
    "---\n",
    "Every algorithm is designed to find out the most optimal parameters by adjusting the `parameters` of a certain model and the `algorithms hyperparameters` to find that equation which best fits for predicting the new data. This whole process is called `learning`."
   ]
  },
  {
   "cell_type": "markdown",
   "id": "710f6445",
   "metadata": {},
   "source": [
    "## 6. What are the various goals of machine learning? What is the relationship between these and human learning?"
   ]
  },
  {
   "cell_type": "markdown",
   "id": "f6d82e29",
   "metadata": {},
   "source": [
    "Goals of Machine Learning and relation to humans\n",
    "---\n",
    "\n",
    "1. Making the computers smarter.\n",
    "2. Properly identifing the things which we see in real world --> [cameras in systems]\n",
    "3. Finding the meaning of the things which other person says and summarizing the things and replying --> [NLP]\n",
    "4. Image analysis like humans.\n",
    "5. Finding patterns like humans find between different things.\n",
    "6. Making predictions like humans. etc....."
   ]
  },
  {
   "cell_type": "markdown",
   "id": "782a7bf6",
   "metadata": {},
   "source": [
    "## 7. Illustrate the various elements of machine learning using a real-life illustration."
   ]
  },
  {
   "cell_type": "markdown",
   "id": "d186ab5c",
   "metadata": {},
   "source": [
    "Suppose we want to make biryani by training a ML model. We will supply the input, the output and we will also bring someone who will be a kind of judge.\n",
    "\n",
    "Three things:\n",
    "1. Input --> ingredients\n",
    "2. Output --> biryani\n",
    "3. Judge --> some algorithm for error between input and output\n",
    "\n",
    "Let's start with random ingredients, and see what happens. error will be more for sure as it the first time learning. After the correction of error calculation), we will start again.\n",
    "\n",
    "Call it second iteration, now we know how much the ingredients were less or more as we have the ouput from the previous iteration, call that output as new weights or ingredients. using the updated weights or ingredients, the output biryani will be produced and this time it will be better. again error will be calculated by some gradient descent on weights and aplly delta rule and go for third iteration and then next iteration until we are not satisfied or in ML case error is approx to zero.\n",
    "\n",
    "So, the updation or setting up the ingredients according to new weights which are more optimized for the current issue is `learning`, we have found the pattern that how to solve this problem by simply making the algorithm do the stuff and not doing some explicit programming here. This is what we call `Machine Learning`."
   ]
  },
  {
   "cell_type": "markdown",
   "id": "bcaa790e",
   "metadata": {},
   "source": [
    "## 8. Provide an example of the abstraction method."
   ]
  },
  {
   "cell_type": "markdown",
   "id": "c37b605c",
   "metadata": {},
   "source": [
    "Transfer Learning is a good example for abstraction method. Suppose we have to identify Dogs and Cats with our model, so without completely training our model from scratch we could use a pre-trained model which has already been trained on different Dogs and Cats and use those weights in our model and do the prediction. Here the abstraction is the things which that previous model has learned about the small details like Yes, actually what you're looking for is called transfer learning and its actually very common in deep learning and especially image recognition these days.\n",
    "\n",
    "Here's how transfer leraning works (intuitively):\n",
    "\n",
    "In terms of your example, you have a model that has learned very well to recognize cats. But in order for the model to be able to recognize the image (note: the computer sees the image as an array of pixels, nothing more) is a cat or not, it first needs to be able to see simpler features (e.g. lines, curves, corners, circles). We call these lower-level features. By combining these features the model can now learn how to see higher-level features, or more complex shapes, possibly domain specific (e.g. eyes, ears, paws, tails). Now these high-level features are passed on to a simple classifier to tell us if it is a cat or not.\n",
    "\n",
    "So, we do prediction without knowing about the small details as those are not that much important for our current work right now, but we could get them if we want."
   ]
  },
  {
   "cell_type": "markdown",
   "id": "5b6b503d",
   "metadata": {},
   "source": [
    "## 9. What is the concept of generalization? What function does it play in the machine learning process?"
   ]
  },
  {
   "cell_type": "markdown",
   "id": "f7d267ec",
   "metadata": {},
   "source": [
    "Generalization is important if we want our model to predict well on the unseen data. If our model is well trained on the training set but not working well on test data, it is called overfitting, but if does well on test set but not on training set, it is called underfitting and then there is zone which called a generalized model. Works well on the training data, test data and also predict well on the unseen data as well.\n",
    "\n",
    "\n",
    "![Generalization](https://images.squarespace-cdn.com/content/v1/5213a664e4b01a5565dc90f1/1539629254927-QWH1H36CJUYVIBLGTAF6/Machine+Learning+Generalization?format=1000w)"
   ]
  },
  {
   "cell_type": "markdown",
   "id": "7cbb9669",
   "metadata": {},
   "source": [
    "# 10. What is classification, exactly? What are the main distinctions between classification and regression?"
   ]
  },
  {
   "cell_type": "markdown",
   "id": "c8cb5d75",
   "metadata": {},
   "source": [
    "In machine Learning, basically we have three types of learning known as Classification, Regression and Reinforcement.\n",
    "\n",
    "1. **Classification** : In classification we try to classify the things into classes, such as Dogs, cats, Traffic signals, Hand Written Digits etc. We coud have Binary Classification, Multi level Classification. Suppose we want to Classify Dogs and cats, we will use Binary classifier. We want to classify Hand written digits, we will use multi level classifier. The values are discreet and not in a continuos manner.\n",
    "\n",
    "2. **Regression** : In Regression we try to do prediction for a continuos value like Weather Forecasting, House price prediction, Height of persons, Stock price prediction etc. Here we have independent and dependent variables.\n",
    "\n",
    "![classification vs regression](https://dataaspirant.com/wp-content/uploads/2014/09/Classification-and-Regression-dataaspirant.png)"
   ]
  },
  {
   "cell_type": "markdown",
   "id": "7419039c",
   "metadata": {},
   "source": [
    "## 11. What is regression, and how does it work? Give an example of a real-world problem that was solved using regression."
   ]
  },
  {
   "cell_type": "markdown",
   "id": "72693cb0",
   "metadata": {},
   "source": [
    "**Regression** : In regression we try to find out the continuos values. suppose we want to find out the price of a house, we will look at certain features, like Number of rooms, Number of bathrooms, Number of Garages, Age of House ehich are the independent values whose values can change any time and are independent, and finally we have Price which is a dependent feature and depends on independent features. on a simpler level we could algorithms like `Linear Regression, Support Vector Regression, Decision Tree Regressor etc`. By using Regression we can do financial predictions, Percentage of studnets in a exam, weather forecast, and many more. \n",
    "\n",
    "A more real world prediction will be the data of `COVID-19`, how much cases could rise?, how much chaos new covid could bring, all different real world geographic level predictions were done using Regression techniques.\n",
    "\n",
    "![Linear Regression](https://static.javatpoint.com/tutorial/machine-learning/images/linear-regression-in-machine-learning.png)"
   ]
  },
  {
   "cell_type": "markdown",
   "id": "d40f9db0",
   "metadata": {},
   "source": [
    "## 12. Describe the clustering mechanism in detail."
   ]
  },
  {
   "cell_type": "markdown",
   "id": "b15fa3aa",
   "metadata": {},
   "source": [
    "Suppose we go for hiking in the mountains, we stumble upon a plant we have never seen before. We look around and we notice a few more. They are not identical, yet they are sufficiently similar for us to know that they most likely belong to the same species (or at least the same genus). we may need a botanist to tell us what species that is, but we certainly don't need an expert to identify groups of similar-looking objects. This is called Clustering: It is the task of identifying similar-looking instances and assigning them to clusters, or groups of similar instances. \n",
    "\n",
    "Again suppose we have a dataset which is not labeled, so we can not use any classification algorithm. This is where Clustering algorithm comes into picture. We can check which are similar features and group them together and also sometimes check that while we were using some unlabeled data and added them into some group is correct or not by checking the similarity of data. Some clustering algorithms are K-Means and DBSCAN. Clustering is used in a wide variety of applications, including these:\n",
    "\n",
    "1. For customer segmentation\n",
    "2. For data analysis\n",
    "3. As a dimensionality reduction technique\n",
    "4. For anomaly detection (also called outlier detection)\n",
    "5. For semi-supervised learning\n",
    "6. For search engines\n",
    "7. To segment an image\n",
    "\n",
    "![clustering algorithm](https://bs-uploads.toptal.io/blackfish-uploads/components/seo/content/og_image_file/og_image/777004/0220-clustering-algorithms-Waldek_Social-8c23ee79f51249ef34dcc3b3473faccb-a44f8dcecfce8d38a521a2a5b63d1837.png)"
   ]
  },
  {
   "cell_type": "markdown",
   "id": "807117b1",
   "metadata": {},
   "source": [
    "## 13. Make brief observations on two of the following topics:\n",
    "\n",
    "i. Machine learning algorithms are used\n",
    "\n",
    "ii. Studying under supervision\n",
    "\n",
    "iii. Studying without supervision\n",
    "\n",
    "iv. Reinforcement learning is a form of learning based on positive reinforcement.\n"
   ]
  },
  {
   "cell_type": "markdown",
   "id": "7609c80a",
   "metadata": {},
   "source": [
    "i. Machine learning algorithms are used\n",
    "---\n",
    "1. Machine learning algorithms are used for making the digital systems smarter, making computers behave like they are smart like us.\n",
    "2. Machine learning algorithms find the optimal parameters, patterns and insights in the data, which even sometimes is not possible even by humans themselves.\n",
    "3. Machine learning algorithms are used in every field like obejct detection, object segmentation, weather forcating etc.\n",
    "4. Analyzing images of products on a production line to automatically classify them.\n",
    "5. Detecting tumors in brain scans.\n",
    "6. Making a app react to voice commands\n",
    "7. Building an intelligent bot for a game. etc etc......\n",
    "\n",
    "Machine learning is being used slowly and steadily almost in every aspect of human today. "
   ]
  },
  {
   "cell_type": "markdown",
   "id": "7c1ffeb5",
   "metadata": {},
   "source": [
    "iv. Reinforcement learning is a form of learning based on positive reinforcement\n",
    "---\n",
    "In Reinforcement learning, a software agent makes observations and takes actions within an environment, and in return it receives rewards. Its objective is to learn to act in a way that will maximize its expected rewards over time. I we don't mind a bit of anthropomorphism, we can think of positive rewards as pleasure, and negative rewards as pain. We could also think reward as positive reinforcement as well. \n",
    "\n",
    "Positive reinforcement could also be thought as if a kid is trying to ride a bike. He tries and fall which is negative reinforcement and next time he doesn't follow that mistake and ride the bike, which will be a positive reinforcement. Same thing happens in case, when a bot tries to learn a game.\n",
    "\n",
    "Example: The agent can observe stock market prices and decide how much to buy or sell every second. Rewards are obviously the monetary gains and losses."
   ]
  },
  {
   "cell_type": "code",
   "execution_count": null,
   "id": "f4ff4dfa",
   "metadata": {},
   "outputs": [],
   "source": []
  }
 ],
 "metadata": {
  "kernelspec": {
   "display_name": "Python 3 (ipykernel)",
   "language": "python",
   "name": "python3"
  },
  "language_info": {
   "codemirror_mode": {
    "name": "ipython",
    "version": 3
   },
   "file_extension": ".py",
   "mimetype": "text/x-python",
   "name": "python",
   "nbconvert_exporter": "python",
   "pygments_lexer": "ipython3",
   "version": "3.9.7"
  }
 },
 "nbformat": 4,
 "nbformat_minor": 5
}
